{
 "cells": [
  {
   "cell_type": "code",
   "execution_count": 1,
   "id": "bd7dc6a1",
   "metadata": {
    "_cell_guid": "b1076dfc-b9ad-4769-8c92-a6c4dae69d19",
    "_uuid": "8f2839f25d086af736a60e9eeb907d3b93b6e0e5",
    "execution": {
     "iopub.execute_input": "2022-03-22T15:29:01.443610Z",
     "iopub.status.busy": "2022-03-22T15:29:01.442318Z",
     "iopub.status.idle": "2022-03-22T15:29:02.877821Z",
     "shell.execute_reply": "2022-03-22T15:29:02.878669Z",
     "shell.execute_reply.started": "2022-03-22T15:27:51.365473Z"
    },
    "papermill": {
     "duration": 1.481309,
     "end_time": "2022-03-22T15:29:02.878976",
     "exception": false,
     "start_time": "2022-03-22T15:29:01.397667",
     "status": "completed"
    },
    "tags": []
   },
   "outputs": [
    {
     "name": "stdout",
     "output_type": "stream",
     "text": [
      "/kaggle/input/salesdata/Train.csv\n",
      "/kaggle/input/salesdata/Test.csv\n"
     ]
    }
   ],
   "source": [
    "# This Python 3 environment comes with many helpful analytics libraries installed\n",
    "# It is defined by the kaggle/python Docker image: https://github.com/kaggle/docker-python\n",
    "# For example, here's several helpful packages to load\n",
    "\n",
    "import numpy as np # linear algebra\n",
    "import pandas as pd # data processing, CSV file I/O (e.g. pd.read_csv)\n",
    "import seaborn as sns\n",
    "import matplotlib.pyplot as plt\n",
    "from sklearn.preprocessing import LabelEncoder\n",
    "from sklearn.model_selection import train_test_split\n",
    "from xgboost import XGBRegressor\n",
    "from sklearn import metrics\n",
    "\n",
    "# Input data files are available in the read-only \"../input/\" directory\n",
    "# For example, running this (by clicking run or pressing Shift+Enter) will list all files under the input directory\n",
    "\n",
    "import os\n",
    "for dirname, _, filenames in os.walk('/kaggle/input'):\n",
    "    for filename in filenames:\n",
    "        print(os.path.join(dirname, filename))\n",
    "\n",
    "# You can write up to 20GB to the current directory (/kaggle/working/) that gets preserved as output when you create a version using \"Save & Run All\" \n",
    "# You can also write temporary files to /kaggle/temp/, but they won't be saved outside of the current session"
   ]
  },
  {
   "cell_type": "code",
   "execution_count": 2,
   "id": "875d3235",
   "metadata": {
    "execution": {
     "iopub.execute_input": "2022-03-22T15:29:02.963590Z",
     "iopub.status.busy": "2022-03-22T15:29:02.962770Z",
     "iopub.status.idle": "2022-03-22T15:29:03.032816Z",
     "shell.execute_reply": "2022-03-22T15:29:03.033541Z",
     "shell.execute_reply.started": "2022-03-22T15:27:52.258364Z"
    },
    "papermill": {
     "duration": 0.114511,
     "end_time": "2022-03-22T15:29:03.033736",
     "exception": false,
     "start_time": "2022-03-22T15:29:02.919225",
     "status": "completed"
    },
    "tags": []
   },
   "outputs": [],
   "source": [
    "train = pd.read_csv(\"../input/salesdata/Train.csv\")\n",
    "test = pd.read_csv(\"../input/salesdata/Test.csv\")"
   ]
  },
  {
   "cell_type": "code",
   "execution_count": 3,
   "id": "6dcf424b",
   "metadata": {
    "execution": {
     "iopub.execute_input": "2022-03-22T15:29:03.117620Z",
     "iopub.status.busy": "2022-03-22T15:29:03.116939Z",
     "iopub.status.idle": "2022-03-22T15:29:03.141689Z",
     "shell.execute_reply": "2022-03-22T15:29:03.142191Z",
     "shell.execute_reply.started": "2022-03-22T15:27:52.339976Z"
    },
    "papermill": {
     "duration": 0.068116,
     "end_time": "2022-03-22T15:29:03.142388",
     "exception": false,
     "start_time": "2022-03-22T15:29:03.074272",
     "status": "completed"
    },
    "tags": []
   },
   "outputs": [
    {
     "data": {
      "text/html": [
       "<div>\n",
       "<style scoped>\n",
       "    .dataframe tbody tr th:only-of-type {\n",
       "        vertical-align: middle;\n",
       "    }\n",
       "\n",
       "    .dataframe tbody tr th {\n",
       "        vertical-align: top;\n",
       "    }\n",
       "\n",
       "    .dataframe thead th {\n",
       "        text-align: right;\n",
       "    }\n",
       "</style>\n",
       "<table border=\"1\" class=\"dataframe\">\n",
       "  <thead>\n",
       "    <tr style=\"text-align: right;\">\n",
       "      <th></th>\n",
       "      <th>Item_Identifier</th>\n",
       "      <th>Item_Weight</th>\n",
       "      <th>Item_Fat_Content</th>\n",
       "      <th>Item_Visibility</th>\n",
       "      <th>Item_Type</th>\n",
       "      <th>Item_MRP</th>\n",
       "      <th>Outlet_Identifier</th>\n",
       "      <th>Outlet_Establishment_Year</th>\n",
       "      <th>Outlet_Size</th>\n",
       "      <th>Outlet_Location_Type</th>\n",
       "      <th>Outlet_Type</th>\n",
       "      <th>Item_Outlet_Sales</th>\n",
       "    </tr>\n",
       "  </thead>\n",
       "  <tbody>\n",
       "    <tr>\n",
       "      <th>0</th>\n",
       "      <td>FDA15</td>\n",
       "      <td>9.30</td>\n",
       "      <td>Low Fat</td>\n",
       "      <td>0.016047</td>\n",
       "      <td>Dairy</td>\n",
       "      <td>249.8092</td>\n",
       "      <td>OUT049</td>\n",
       "      <td>1999</td>\n",
       "      <td>Medium</td>\n",
       "      <td>Tier 1</td>\n",
       "      <td>Supermarket Type1</td>\n",
       "      <td>3735.1380</td>\n",
       "    </tr>\n",
       "    <tr>\n",
       "      <th>1</th>\n",
       "      <td>DRC01</td>\n",
       "      <td>5.92</td>\n",
       "      <td>Regular</td>\n",
       "      <td>0.019278</td>\n",
       "      <td>Soft Drinks</td>\n",
       "      <td>48.2692</td>\n",
       "      <td>OUT018</td>\n",
       "      <td>2009</td>\n",
       "      <td>Medium</td>\n",
       "      <td>Tier 3</td>\n",
       "      <td>Supermarket Type2</td>\n",
       "      <td>443.4228</td>\n",
       "    </tr>\n",
       "    <tr>\n",
       "      <th>2</th>\n",
       "      <td>FDN15</td>\n",
       "      <td>17.50</td>\n",
       "      <td>Low Fat</td>\n",
       "      <td>0.016760</td>\n",
       "      <td>Meat</td>\n",
       "      <td>141.6180</td>\n",
       "      <td>OUT049</td>\n",
       "      <td>1999</td>\n",
       "      <td>Medium</td>\n",
       "      <td>Tier 1</td>\n",
       "      <td>Supermarket Type1</td>\n",
       "      <td>2097.2700</td>\n",
       "    </tr>\n",
       "    <tr>\n",
       "      <th>3</th>\n",
       "      <td>FDX07</td>\n",
       "      <td>19.20</td>\n",
       "      <td>Regular</td>\n",
       "      <td>0.000000</td>\n",
       "      <td>Fruits and Vegetables</td>\n",
       "      <td>182.0950</td>\n",
       "      <td>OUT010</td>\n",
       "      <td>1998</td>\n",
       "      <td>NaN</td>\n",
       "      <td>Tier 3</td>\n",
       "      <td>Grocery Store</td>\n",
       "      <td>732.3800</td>\n",
       "    </tr>\n",
       "    <tr>\n",
       "      <th>4</th>\n",
       "      <td>NCD19</td>\n",
       "      <td>8.93</td>\n",
       "      <td>Low Fat</td>\n",
       "      <td>0.000000</td>\n",
       "      <td>Household</td>\n",
       "      <td>53.8614</td>\n",
       "      <td>OUT013</td>\n",
       "      <td>1987</td>\n",
       "      <td>High</td>\n",
       "      <td>Tier 3</td>\n",
       "      <td>Supermarket Type1</td>\n",
       "      <td>994.7052</td>\n",
       "    </tr>\n",
       "  </tbody>\n",
       "</table>\n",
       "</div>"
      ],
      "text/plain": [
       "  Item_Identifier  Item_Weight Item_Fat_Content  Item_Visibility  \\\n",
       "0           FDA15         9.30          Low Fat         0.016047   \n",
       "1           DRC01         5.92          Regular         0.019278   \n",
       "2           FDN15        17.50          Low Fat         0.016760   \n",
       "3           FDX07        19.20          Regular         0.000000   \n",
       "4           NCD19         8.93          Low Fat         0.000000   \n",
       "\n",
       "               Item_Type  Item_MRP Outlet_Identifier  \\\n",
       "0                  Dairy  249.8092            OUT049   \n",
       "1            Soft Drinks   48.2692            OUT018   \n",
       "2                   Meat  141.6180            OUT049   \n",
       "3  Fruits and Vegetables  182.0950            OUT010   \n",
       "4              Household   53.8614            OUT013   \n",
       "\n",
       "   Outlet_Establishment_Year Outlet_Size Outlet_Location_Type  \\\n",
       "0                       1999      Medium               Tier 1   \n",
       "1                       2009      Medium               Tier 3   \n",
       "2                       1999      Medium               Tier 1   \n",
       "3                       1998         NaN               Tier 3   \n",
       "4                       1987        High               Tier 3   \n",
       "\n",
       "         Outlet_Type  Item_Outlet_Sales  \n",
       "0  Supermarket Type1          3735.1380  \n",
       "1  Supermarket Type2           443.4228  \n",
       "2  Supermarket Type1          2097.2700  \n",
       "3      Grocery Store           732.3800  \n",
       "4  Supermarket Type1           994.7052  "
      ]
     },
     "execution_count": 3,
     "metadata": {},
     "output_type": "execute_result"
    }
   ],
   "source": [
    "train.head()"
   ]
  },
  {
   "cell_type": "code",
   "execution_count": 4,
   "id": "bdede47b",
   "metadata": {
    "execution": {
     "iopub.execute_input": "2022-03-22T15:29:03.230415Z",
     "iopub.status.busy": "2022-03-22T15:29:03.229707Z",
     "iopub.status.idle": "2022-03-22T15:29:03.243914Z",
     "shell.execute_reply": "2022-03-22T15:29:03.244478Z",
     "shell.execute_reply.started": "2022-03-22T15:27:52.373817Z"
    },
    "papermill": {
     "duration": 0.060372,
     "end_time": "2022-03-22T15:29:03.244652",
     "exception": false,
     "start_time": "2022-03-22T15:29:03.184280",
     "status": "completed"
    },
    "tags": []
   },
   "outputs": [],
   "source": [
    "train.drop(['Item_Identifier'],axis=1,inplace=True)\n",
    "test.drop(['Item_Identifier'],axis=1,inplace=True)"
   ]
  },
  {
   "cell_type": "code",
   "execution_count": 5,
   "id": "ba7ffbd1",
   "metadata": {
    "execution": {
     "iopub.execute_input": "2022-03-22T15:29:03.332183Z",
     "iopub.status.busy": "2022-03-22T15:29:03.331535Z",
     "iopub.status.idle": "2022-03-22T15:29:03.336912Z",
     "shell.execute_reply": "2022-03-22T15:29:03.337505Z",
     "shell.execute_reply.started": "2022-03-22T15:27:52.387616Z"
    },
    "papermill": {
     "duration": 0.049386,
     "end_time": "2022-03-22T15:29:03.337696",
     "exception": false,
     "start_time": "2022-03-22T15:29:03.288310",
     "status": "completed"
    },
    "tags": []
   },
   "outputs": [
    {
     "data": {
      "text/plain": [
       "Index(['Item_Weight', 'Item_Fat_Content', 'Item_Visibility', 'Item_Type',\n",
       "       'Item_MRP', 'Outlet_Identifier', 'Outlet_Establishment_Year',\n",
       "       'Outlet_Size', 'Outlet_Location_Type', 'Outlet_Type',\n",
       "       'Item_Outlet_Sales'],\n",
       "      dtype='object')"
      ]
     },
     "execution_count": 5,
     "metadata": {},
     "output_type": "execute_result"
    }
   ],
   "source": [
    "train.columns"
   ]
  },
  {
   "cell_type": "code",
   "execution_count": 6,
   "id": "113c3457",
   "metadata": {
    "execution": {
     "iopub.execute_input": "2022-03-22T15:29:03.431909Z",
     "iopub.status.busy": "2022-03-22T15:29:03.431099Z",
     "iopub.status.idle": "2022-03-22T15:29:03.444332Z",
     "shell.execute_reply": "2022-03-22T15:29:03.444859Z",
     "shell.execute_reply.started": "2022-03-22T15:27:52.403202Z"
    },
    "papermill": {
     "duration": 0.063093,
     "end_time": "2022-03-22T15:29:03.445039",
     "exception": false,
     "start_time": "2022-03-22T15:29:03.381946",
     "status": "completed"
    },
    "tags": []
   },
   "outputs": [
    {
     "data": {
      "text/plain": [
       "Item_Weight                  17.165317\n",
       "Item_Fat_Content              0.000000\n",
       "Item_Visibility               0.000000\n",
       "Item_Type                     0.000000\n",
       "Item_MRP                      0.000000\n",
       "Outlet_Identifier             0.000000\n",
       "Outlet_Establishment_Year     0.000000\n",
       "Outlet_Size                  28.276428\n",
       "Outlet_Location_Type          0.000000\n",
       "Outlet_Type                   0.000000\n",
       "Item_Outlet_Sales             0.000000\n",
       "dtype: float64"
      ]
     },
     "execution_count": 6,
     "metadata": {},
     "output_type": "execute_result"
    }
   ],
   "source": [
    "train.isna().sum()/len(train)*100"
   ]
  },
  {
   "cell_type": "code",
   "execution_count": 7,
   "id": "c088ff96",
   "metadata": {
    "execution": {
     "iopub.execute_input": "2022-03-22T15:29:03.534906Z",
     "iopub.status.busy": "2022-03-22T15:29:03.533866Z",
     "iopub.status.idle": "2022-03-22T15:29:03.547443Z",
     "shell.execute_reply": "2022-03-22T15:29:03.546745Z",
     "shell.execute_reply.started": "2022-03-22T15:27:52.429476Z"
    },
    "papermill": {
     "duration": 0.05916,
     "end_time": "2022-03-22T15:29:03.547592",
     "exception": false,
     "start_time": "2022-03-22T15:29:03.488432",
     "status": "completed"
    },
    "tags": []
   },
   "outputs": [
    {
     "data": {
      "text/plain": [
       "Item_Weight                  11.451367\n",
       "Item_Fat_Content              0.000000\n",
       "Item_Visibility               0.000000\n",
       "Item_Type                     0.000000\n",
       "Item_MRP                      0.000000\n",
       "Outlet_Identifier             0.000000\n",
       "Outlet_Establishment_Year     0.000000\n",
       "Outlet_Size                  18.843130\n",
       "Outlet_Location_Type          0.000000\n",
       "Outlet_Type                   0.000000\n",
       "dtype: float64"
      ]
     },
     "execution_count": 7,
     "metadata": {},
     "output_type": "execute_result"
    }
   ],
   "source": [
    "#test Data\n",
    "test.isna().sum()/len(train)*100"
   ]
  },
  {
   "cell_type": "code",
   "execution_count": 8,
   "id": "849393da",
   "metadata": {
    "execution": {
     "iopub.execute_input": "2022-03-22T15:29:03.642012Z",
     "iopub.status.busy": "2022-03-22T15:29:03.641296Z",
     "iopub.status.idle": "2022-03-22T15:29:03.667314Z",
     "shell.execute_reply": "2022-03-22T15:29:03.666734Z",
     "shell.execute_reply.started": "2022-03-22T15:27:52.446871Z"
    },
    "papermill": {
     "duration": 0.077801,
     "end_time": "2022-03-22T15:29:03.667464",
     "exception": false,
     "start_time": "2022-03-22T15:29:03.589663",
     "status": "completed"
    },
    "tags": []
   },
   "outputs": [
    {
     "data": {
      "text/html": [
       "<div>\n",
       "<style scoped>\n",
       "    .dataframe tbody tr th:only-of-type {\n",
       "        vertical-align: middle;\n",
       "    }\n",
       "\n",
       "    .dataframe tbody tr th {\n",
       "        vertical-align: top;\n",
       "    }\n",
       "\n",
       "    .dataframe thead th {\n",
       "        text-align: right;\n",
       "    }\n",
       "</style>\n",
       "<table border=\"1\" class=\"dataframe\">\n",
       "  <thead>\n",
       "    <tr style=\"text-align: right;\">\n",
       "      <th>Outlet_Type</th>\n",
       "      <th>Grocery Store</th>\n",
       "      <th>Supermarket Type1</th>\n",
       "      <th>Supermarket Type2</th>\n",
       "      <th>Supermarket Type3</th>\n",
       "    </tr>\n",
       "  </thead>\n",
       "  <tbody>\n",
       "    <tr>\n",
       "      <th>Outlet_Size</th>\n",
       "      <td>Small</td>\n",
       "      <td>Small</td>\n",
       "      <td>Medium</td>\n",
       "      <td>Medium</td>\n",
       "    </tr>\n",
       "  </tbody>\n",
       "</table>\n",
       "</div>"
      ],
      "text/plain": [
       "Outlet_Type Grocery Store Supermarket Type1 Supermarket Type2  \\\n",
       "Outlet_Size         Small             Small            Medium   \n",
       "\n",
       "Outlet_Type Supermarket Type3  \n",
       "Outlet_Size            Medium  "
      ]
     },
     "execution_count": 8,
     "metadata": {},
     "output_type": "execute_result"
    }
   ],
   "source": [
    "#filling Store Value train data\n",
    "mode_outlet = train.pivot_table(values='Outlet_Size',columns='Outlet_Type',aggfunc=(lambda x: x.mode()[0]))\n",
    "mode_outlet"
   ]
  },
  {
   "cell_type": "code",
   "execution_count": 9,
   "id": "7154f515",
   "metadata": {
    "execution": {
     "iopub.execute_input": "2022-03-22T15:29:03.755153Z",
     "iopub.status.busy": "2022-03-22T15:29:03.754507Z",
     "iopub.status.idle": "2022-03-22T15:29:03.759730Z",
     "shell.execute_reply": "2022-03-22T15:29:03.760263Z",
     "shell.execute_reply.started": "2022-03-22T15:27:52.480988Z"
    },
    "papermill": {
     "duration": 0.051119,
     "end_time": "2022-03-22T15:29:03.760446",
     "exception": false,
     "start_time": "2022-03-22T15:29:03.709327",
     "status": "completed"
    },
    "tags": []
   },
   "outputs": [],
   "source": [
    "#Missing Values\n",
    "missing_outlet = train['Outlet_Size'].isnull()\n",
    "\n"
   ]
  },
  {
   "cell_type": "code",
   "execution_count": 10,
   "id": "690d9804",
   "metadata": {
    "execution": {
     "iopub.execute_input": "2022-03-22T15:29:03.847600Z",
     "iopub.status.busy": "2022-03-22T15:29:03.846885Z",
     "iopub.status.idle": "2022-03-22T15:29:03.940712Z",
     "shell.execute_reply": "2022-03-22T15:29:03.939934Z",
     "shell.execute_reply.started": "2022-03-22T15:27:52.491296Z"
    },
    "papermill": {
     "duration": 0.138542,
     "end_time": "2022-03-22T15:29:03.940915",
     "exception": false,
     "start_time": "2022-03-22T15:29:03.802373",
     "status": "completed"
    },
    "tags": []
   },
   "outputs": [],
   "source": [
    "train.loc[missing_outlet,'Outlet_Size'] = train.loc[missing_outlet,'Outlet_Type'].apply(lambda x: mode_outlet[x])"
   ]
  },
  {
   "cell_type": "code",
   "execution_count": 11,
   "id": "c39dda7c",
   "metadata": {
    "execution": {
     "iopub.execute_input": "2022-03-22T15:29:04.040588Z",
     "iopub.status.busy": "2022-03-22T15:29:04.039757Z",
     "iopub.status.idle": "2022-03-22T15:29:04.055241Z",
     "shell.execute_reply": "2022-03-22T15:29:04.055850Z",
     "shell.execute_reply.started": "2022-03-22T15:27:52.597893Z"
    },
    "papermill": {
     "duration": 0.070977,
     "end_time": "2022-03-22T15:29:04.056026",
     "exception": false,
     "start_time": "2022-03-22T15:29:03.985049",
     "status": "completed"
    },
    "tags": []
   },
   "outputs": [
    {
     "data": {
      "text/html": [
       "<div>\n",
       "<style scoped>\n",
       "    .dataframe tbody tr th:only-of-type {\n",
       "        vertical-align: middle;\n",
       "    }\n",
       "\n",
       "    .dataframe tbody tr th {\n",
       "        vertical-align: top;\n",
       "    }\n",
       "\n",
       "    .dataframe thead th {\n",
       "        text-align: right;\n",
       "    }\n",
       "</style>\n",
       "<table border=\"1\" class=\"dataframe\">\n",
       "  <thead>\n",
       "    <tr style=\"text-align: right;\">\n",
       "      <th>Outlet_Type</th>\n",
       "      <th>Grocery Store</th>\n",
       "      <th>Supermarket Type1</th>\n",
       "      <th>Supermarket Type2</th>\n",
       "      <th>Supermarket Type3</th>\n",
       "    </tr>\n",
       "  </thead>\n",
       "  <tbody>\n",
       "    <tr>\n",
       "      <th>Outlet_Size</th>\n",
       "      <td>Small</td>\n",
       "      <td>Small</td>\n",
       "      <td>Medium</td>\n",
       "      <td>Medium</td>\n",
       "    </tr>\n",
       "  </tbody>\n",
       "</table>\n",
       "</div>"
      ],
      "text/plain": [
       "Outlet_Type Grocery Store Supermarket Type1 Supermarket Type2  \\\n",
       "Outlet_Size         Small             Small            Medium   \n",
       "\n",
       "Outlet_Type Supermarket Type3  \n",
       "Outlet_Size            Medium  "
      ]
     },
     "execution_count": 11,
     "metadata": {},
     "output_type": "execute_result"
    }
   ],
   "source": [
    "#filling Store Value train data\n",
    "mode_outlet_test = test.pivot_table(values='Outlet_Size',columns='Outlet_Type',aggfunc=(lambda x: x.mode()[0]))\n",
    "mode_outlet_test"
   ]
  },
  {
   "cell_type": "code",
   "execution_count": 12,
   "id": "59726417",
   "metadata": {
    "execution": {
     "iopub.execute_input": "2022-03-22T15:29:04.146492Z",
     "iopub.status.busy": "2022-03-22T15:29:04.145788Z",
     "iopub.status.idle": "2022-03-22T15:29:04.155152Z",
     "shell.execute_reply": "2022-03-22T15:29:04.155718Z",
     "shell.execute_reply.started": "2022-03-22T15:27:52.631340Z"
    },
    "papermill": {
     "duration": 0.055981,
     "end_time": "2022-03-22T15:29:04.155897",
     "exception": false,
     "start_time": "2022-03-22T15:29:04.099916",
     "status": "completed"
    },
    "tags": []
   },
   "outputs": [],
   "source": [
    "missing_outlet_test = train['Outlet_Size'].isnull()\n",
    "test.loc[missing_outlet_test,'Outlet_Size'] = test.loc[missing_outlet_test,'Outlet_Type'].apply(lambda x: mode_outlet_test[x])"
   ]
  },
  {
   "cell_type": "code",
   "execution_count": 13,
   "id": "466f6c29",
   "metadata": {
    "execution": {
     "iopub.execute_input": "2022-03-22T15:29:04.246339Z",
     "iopub.status.busy": "2022-03-22T15:29:04.245630Z",
     "iopub.status.idle": "2022-03-22T15:29:04.266438Z",
     "shell.execute_reply": "2022-03-22T15:29:04.266995Z",
     "shell.execute_reply.started": "2022-03-22T15:27:52.644800Z"
    },
    "papermill": {
     "duration": 0.066434,
     "end_time": "2022-03-22T15:29:04.267168",
     "exception": false,
     "start_time": "2022-03-22T15:29:04.200734",
     "status": "completed"
    },
    "tags": []
   },
   "outputs": [],
   "source": [
    "#Filling Categorical train\n",
    "for column in train.columns:\n",
    "    if  train[column].dtype == object:\n",
    "        train[column].fillna(train[column].mode()[0],inplace=True)"
   ]
  },
  {
   "cell_type": "code",
   "execution_count": 14,
   "id": "16c95ca9",
   "metadata": {
    "execution": {
     "iopub.execute_input": "2022-03-22T15:29:04.360287Z",
     "iopub.status.busy": "2022-03-22T15:29:04.359610Z",
     "iopub.status.idle": "2022-03-22T15:29:04.366679Z",
     "shell.execute_reply": "2022-03-22T15:29:04.367225Z",
     "shell.execute_reply.started": "2022-03-22T15:27:52.683339Z"
    },
    "papermill": {
     "duration": 0.05543,
     "end_time": "2022-03-22T15:29:04.367411",
     "exception": false,
     "start_time": "2022-03-22T15:29:04.311981",
     "status": "completed"
    },
    "tags": []
   },
   "outputs": [
    {
     "name": "stderr",
     "output_type": "stream",
     "text": [
      "/opt/conda/lib/python3.7/site-packages/ipykernel_launcher.py:3: DeprecationWarning: Converting `np.inexact` or `np.floating` to a dtype is deprecated. The current result is `float64` which is not strictly correct.\n",
      "  This is separate from the ipykernel package so we can avoid doing imports until\n"
     ]
    }
   ],
   "source": [
    "#Filling Numerical train:-\n",
    "for column in train.columns:\n",
    "    if  train[column].dtype == np.number:\n",
    "        train[column].fillna(train[column].mean(),inplace=True)"
   ]
  },
  {
   "cell_type": "code",
   "execution_count": 15,
   "id": "981e497a",
   "metadata": {
    "execution": {
     "iopub.execute_input": "2022-03-22T15:29:04.463187Z",
     "iopub.status.busy": "2022-03-22T15:29:04.461936Z",
     "iopub.status.idle": "2022-03-22T15:29:04.469837Z",
     "shell.execute_reply": "2022-03-22T15:29:04.470501Z",
     "shell.execute_reply.started": "2022-03-22T15:27:52.698154Z"
    },
    "papermill": {
     "duration": 0.057411,
     "end_time": "2022-03-22T15:29:04.470685",
     "exception": false,
     "start_time": "2022-03-22T15:29:04.413274",
     "status": "completed"
    },
    "tags": []
   },
   "outputs": [
    {
     "name": "stderr",
     "output_type": "stream",
     "text": [
      "/opt/conda/lib/python3.7/site-packages/ipykernel_launcher.py:3: DeprecationWarning: Converting `np.inexact` or `np.floating` to a dtype is deprecated. The current result is `float64` which is not strictly correct.\n",
      "  This is separate from the ipykernel package so we can avoid doing imports until\n"
     ]
    }
   ],
   "source": [
    "#Filling Numerical test:-\n",
    "for column in test.columns:\n",
    "    if  test[column].dtype == np.number:\n",
    "        test[column].fillna(test[column].mean(),inplace=True)"
   ]
  },
  {
   "cell_type": "code",
   "execution_count": 16,
   "id": "ac8186d8",
   "metadata": {
    "execution": {
     "iopub.execute_input": "2022-03-22T15:29:04.564929Z",
     "iopub.status.busy": "2022-03-22T15:29:04.564064Z",
     "iopub.status.idle": "2022-03-22T15:29:04.580188Z",
     "shell.execute_reply": "2022-03-22T15:29:04.580857Z",
     "shell.execute_reply.started": "2022-03-22T15:27:52.714788Z"
    },
    "papermill": {
     "duration": 0.063992,
     "end_time": "2022-03-22T15:29:04.581053",
     "exception": false,
     "start_time": "2022-03-22T15:29:04.517061",
     "status": "completed"
    },
    "tags": []
   },
   "outputs": [
    {
     "data": {
      "text/html": [
       "<div>\n",
       "<style scoped>\n",
       "    .dataframe tbody tr th:only-of-type {\n",
       "        vertical-align: middle;\n",
       "    }\n",
       "\n",
       "    .dataframe tbody tr th {\n",
       "        vertical-align: top;\n",
       "    }\n",
       "\n",
       "    .dataframe thead th {\n",
       "        text-align: right;\n",
       "    }\n",
       "</style>\n",
       "<table border=\"1\" class=\"dataframe\">\n",
       "  <thead>\n",
       "    <tr style=\"text-align: right;\">\n",
       "      <th></th>\n",
       "      <th>Item_Weight</th>\n",
       "      <th>Item_Fat_Content</th>\n",
       "      <th>Item_Visibility</th>\n",
       "      <th>Item_Type</th>\n",
       "      <th>Item_MRP</th>\n",
       "      <th>Outlet_Identifier</th>\n",
       "      <th>Outlet_Establishment_Year</th>\n",
       "      <th>Outlet_Size</th>\n",
       "      <th>Outlet_Location_Type</th>\n",
       "      <th>Outlet_Type</th>\n",
       "      <th>Item_Outlet_Sales</th>\n",
       "    </tr>\n",
       "  </thead>\n",
       "  <tbody>\n",
       "    <tr>\n",
       "      <th>0</th>\n",
       "      <td>9.30</td>\n",
       "      <td>Low Fat</td>\n",
       "      <td>0.016047</td>\n",
       "      <td>Dairy</td>\n",
       "      <td>249.8092</td>\n",
       "      <td>OUT049</td>\n",
       "      <td>1999</td>\n",
       "      <td>Medium</td>\n",
       "      <td>Tier 1</td>\n",
       "      <td>Supermarket Type1</td>\n",
       "      <td>3735.1380</td>\n",
       "    </tr>\n",
       "    <tr>\n",
       "      <th>1</th>\n",
       "      <td>5.92</td>\n",
       "      <td>Regular</td>\n",
       "      <td>0.019278</td>\n",
       "      <td>Soft Drinks</td>\n",
       "      <td>48.2692</td>\n",
       "      <td>OUT018</td>\n",
       "      <td>2009</td>\n",
       "      <td>Medium</td>\n",
       "      <td>Tier 3</td>\n",
       "      <td>Supermarket Type2</td>\n",
       "      <td>443.4228</td>\n",
       "    </tr>\n",
       "    <tr>\n",
       "      <th>2</th>\n",
       "      <td>17.50</td>\n",
       "      <td>Low Fat</td>\n",
       "      <td>0.016760</td>\n",
       "      <td>Meat</td>\n",
       "      <td>141.6180</td>\n",
       "      <td>OUT049</td>\n",
       "      <td>1999</td>\n",
       "      <td>Medium</td>\n",
       "      <td>Tier 1</td>\n",
       "      <td>Supermarket Type1</td>\n",
       "      <td>2097.2700</td>\n",
       "    </tr>\n",
       "    <tr>\n",
       "      <th>3</th>\n",
       "      <td>19.20</td>\n",
       "      <td>Regular</td>\n",
       "      <td>0.000000</td>\n",
       "      <td>Fruits and Vegetables</td>\n",
       "      <td>182.0950</td>\n",
       "      <td>OUT010</td>\n",
       "      <td>1998</td>\n",
       "      <td>Small</td>\n",
       "      <td>Tier 3</td>\n",
       "      <td>Grocery Store</td>\n",
       "      <td>732.3800</td>\n",
       "    </tr>\n",
       "    <tr>\n",
       "      <th>4</th>\n",
       "      <td>8.93</td>\n",
       "      <td>Low Fat</td>\n",
       "      <td>0.000000</td>\n",
       "      <td>Household</td>\n",
       "      <td>53.8614</td>\n",
       "      <td>OUT013</td>\n",
       "      <td>1987</td>\n",
       "      <td>High</td>\n",
       "      <td>Tier 3</td>\n",
       "      <td>Supermarket Type1</td>\n",
       "      <td>994.7052</td>\n",
       "    </tr>\n",
       "  </tbody>\n",
       "</table>\n",
       "</div>"
      ],
      "text/plain": [
       "   Item_Weight Item_Fat_Content  Item_Visibility              Item_Type  \\\n",
       "0         9.30          Low Fat         0.016047                  Dairy   \n",
       "1         5.92          Regular         0.019278            Soft Drinks   \n",
       "2        17.50          Low Fat         0.016760                   Meat   \n",
       "3        19.20          Regular         0.000000  Fruits and Vegetables   \n",
       "4         8.93          Low Fat         0.000000              Household   \n",
       "\n",
       "   Item_MRP Outlet_Identifier  Outlet_Establishment_Year Outlet_Size  \\\n",
       "0  249.8092            OUT049                       1999      Medium   \n",
       "1   48.2692            OUT018                       2009      Medium   \n",
       "2  141.6180            OUT049                       1999      Medium   \n",
       "3  182.0950            OUT010                       1998       Small   \n",
       "4   53.8614            OUT013                       1987        High   \n",
       "\n",
       "  Outlet_Location_Type        Outlet_Type  Item_Outlet_Sales  \n",
       "0               Tier 1  Supermarket Type1          3735.1380  \n",
       "1               Tier 3  Supermarket Type2           443.4228  \n",
       "2               Tier 1  Supermarket Type1          2097.2700  \n",
       "3               Tier 3      Grocery Store           732.3800  \n",
       "4               Tier 3  Supermarket Type1           994.7052  "
      ]
     },
     "execution_count": 16,
     "metadata": {},
     "output_type": "execute_result"
    }
   ],
   "source": [
    "train.head()"
   ]
  },
  {
   "cell_type": "code",
   "execution_count": 17,
   "id": "2d006bb7",
   "metadata": {
    "execution": {
     "iopub.execute_input": "2022-03-22T15:29:04.674732Z",
     "iopub.status.busy": "2022-03-22T15:29:04.674056Z",
     "iopub.status.idle": "2022-03-22T15:29:04.680128Z",
     "shell.execute_reply": "2022-03-22T15:29:04.680748Z",
     "shell.execute_reply.started": "2022-03-22T15:27:52.739352Z"
    },
    "papermill": {
     "duration": 0.053748,
     "end_time": "2022-03-22T15:29:04.680924",
     "exception": false,
     "start_time": "2022-03-22T15:29:04.627176",
     "status": "completed"
    },
    "tags": []
   },
   "outputs": [
    {
     "data": {
      "text/plain": [
       "array(['Low Fat', 'Regular', 'low fat', 'LF', 'reg'], dtype=object)"
      ]
     },
     "execution_count": 17,
     "metadata": {},
     "output_type": "execute_result"
    }
   ],
   "source": [
    "train['Item_Fat_Content'].unique()"
   ]
  },
  {
   "cell_type": "code",
   "execution_count": 18,
   "id": "12158151",
   "metadata": {
    "execution": {
     "iopub.execute_input": "2022-03-22T15:29:04.782174Z",
     "iopub.status.busy": "2022-03-22T15:29:04.781502Z",
     "iopub.status.idle": "2022-03-22T15:29:04.811495Z",
     "shell.execute_reply": "2022-03-22T15:29:04.812052Z",
     "shell.execute_reply.started": "2022-03-22T15:27:52.749839Z"
    },
    "papermill": {
     "duration": 0.085062,
     "end_time": "2022-03-22T15:29:04.812246",
     "exception": false,
     "start_time": "2022-03-22T15:29:04.727184",
     "status": "completed"
    },
    "tags": []
   },
   "outputs": [],
   "source": [
    "train['Item_Fat_Content'] = train['Item_Fat_Content'].str.replace('low fat','Low Fat')\n",
    "train['Item_Fat_Content'] = train['Item_Fat_Content'].str.replace('LF','Low Fat')\n",
    "train['Item_Fat_Content'] = train['Item_Fat_Content'].str.replace('reg','Regular')\n"
   ]
  },
  {
   "cell_type": "code",
   "execution_count": 19,
   "id": "b06be7ca",
   "metadata": {
    "_kg_hide-output": true,
    "execution": {
     "iopub.execute_input": "2022-03-22T15:29:04.908500Z",
     "iopub.status.busy": "2022-03-22T15:29:04.907810Z",
     "iopub.status.idle": "2022-03-22T15:29:04.913693Z",
     "shell.execute_reply": "2022-03-22T15:29:04.914288Z",
     "shell.execute_reply.started": "2022-03-22T15:27:52.788351Z"
    },
    "papermill": {
     "duration": 0.055062,
     "end_time": "2022-03-22T15:29:04.914465",
     "exception": false,
     "start_time": "2022-03-22T15:29:04.859403",
     "status": "completed"
    },
    "tags": []
   },
   "outputs": [
    {
     "data": {
      "text/plain": [
       "array(['Low Fat', 'Regular'], dtype=object)"
      ]
     },
     "execution_count": 19,
     "metadata": {},
     "output_type": "execute_result"
    }
   ],
   "source": [
    "train['Item_Fat_Content'].unique()"
   ]
  },
  {
   "cell_type": "code",
   "execution_count": 20,
   "id": "019216a0",
   "metadata": {
    "execution": {
     "iopub.execute_input": "2022-03-22T15:29:05.009734Z",
     "iopub.status.busy": "2022-03-22T15:29:05.009058Z",
     "iopub.status.idle": "2022-03-22T15:29:05.014262Z",
     "shell.execute_reply": "2022-03-22T15:29:05.014861Z",
     "shell.execute_reply.started": "2022-03-22T15:27:52.806233Z"
    },
    "papermill": {
     "duration": 0.054152,
     "end_time": "2022-03-22T15:29:05.015038",
     "exception": false,
     "start_time": "2022-03-22T15:29:04.960886",
     "status": "completed"
    },
    "tags": []
   },
   "outputs": [
    {
     "data": {
      "text/plain": [
       "Index(['Item_Weight', 'Item_Fat_Content', 'Item_Visibility', 'Item_Type',\n",
       "       'Item_MRP', 'Outlet_Identifier', 'Outlet_Establishment_Year',\n",
       "       'Outlet_Size', 'Outlet_Location_Type', 'Outlet_Type',\n",
       "       'Item_Outlet_Sales'],\n",
       "      dtype='object')"
      ]
     },
     "execution_count": 20,
     "metadata": {},
     "output_type": "execute_result"
    }
   ],
   "source": [
    "train.columns"
   ]
  },
  {
   "cell_type": "code",
   "execution_count": 21,
   "id": "0cf38a54",
   "metadata": {
    "execution": {
     "iopub.execute_input": "2022-03-22T15:29:05.113317Z",
     "iopub.status.busy": "2022-03-22T15:29:05.112618Z",
     "iopub.status.idle": "2022-03-22T15:29:05.135954Z",
     "shell.execute_reply": "2022-03-22T15:29:05.136510Z",
     "shell.execute_reply.started": "2022-03-22T15:27:52.819706Z"
    },
    "papermill": {
     "duration": 0.074577,
     "end_time": "2022-03-22T15:29:05.136696",
     "exception": false,
     "start_time": "2022-03-22T15:29:05.062119",
     "status": "completed"
    },
    "tags": []
   },
   "outputs": [
    {
     "name": "stdout",
     "output_type": "stream",
     "text": [
      "<class 'pandas.core.frame.DataFrame'>\n",
      "RangeIndex: 8523 entries, 0 to 8522\n",
      "Data columns (total 11 columns):\n",
      " #   Column                     Non-Null Count  Dtype  \n",
      "---  ------                     --------------  -----  \n",
      " 0   Item_Weight                8523 non-null   float64\n",
      " 1   Item_Fat_Content           8523 non-null   object \n",
      " 2   Item_Visibility            8523 non-null   float64\n",
      " 3   Item_Type                  8523 non-null   object \n",
      " 4   Item_MRP                   8523 non-null   float64\n",
      " 5   Outlet_Identifier          8523 non-null   object \n",
      " 6   Outlet_Establishment_Year  8523 non-null   int64  \n",
      " 7   Outlet_Size                8523 non-null   object \n",
      " 8   Outlet_Location_Type       8523 non-null   object \n",
      " 9   Outlet_Type                8523 non-null   object \n",
      " 10  Item_Outlet_Sales          8523 non-null   float64\n",
      "dtypes: float64(4), int64(1), object(6)\n",
      "memory usage: 732.6+ KB\n"
     ]
    }
   ],
   "source": [
    "train.info()"
   ]
  },
  {
   "cell_type": "markdown",
   "id": "5c507572",
   "metadata": {
    "papermill": {
     "duration": 0.049485,
     "end_time": "2022-03-22T15:29:05.232944",
     "exception": false,
     "start_time": "2022-03-22T15:29:05.183459",
     "status": "completed"
    },
    "tags": []
   },
   "source": [
    "## Visualisation"
   ]
  },
  {
   "cell_type": "code",
   "execution_count": 22,
   "id": "5de243fe",
   "metadata": {
    "_kg_hide-output": false,
    "execution": {
     "iopub.execute_input": "2022-03-22T15:29:05.332968Z",
     "iopub.status.busy": "2022-03-22T15:29:05.332229Z",
     "iopub.status.idle": "2022-03-22T15:29:06.647644Z",
     "shell.execute_reply": "2022-03-22T15:29:06.648173Z",
     "shell.execute_reply.started": "2022-03-22T15:27:52.853795Z"
    },
    "papermill": {
     "duration": 1.36651,
     "end_time": "2022-03-22T15:29:06.648379",
     "exception": false,
     "start_time": "2022-03-22T15:29:05.281869",
     "status": "completed"
    },
    "tags": []
   },
   "outputs": [
    {
     "name": "stderr",
     "output_type": "stream",
     "text": [
      "/opt/conda/lib/python3.7/site-packages/ipykernel_launcher.py:3: DeprecationWarning: Converting `np.inexact` or `np.floating` to a dtype is deprecated. The current result is `float64` which is not strictly correct.\n",
      "  This is separate from the ipykernel package so we can avoid doing imports until\n",
      "/opt/conda/lib/python3.7/site-packages/ipykernel_launcher.py:3: DeprecationWarning: Converting `np.inexact` or `np.floating` to a dtype is deprecated. The current result is `float64` which is not strictly correct.\n",
      "  This is separate from the ipykernel package so we can avoid doing imports until\n",
      "/opt/conda/lib/python3.7/site-packages/ipykernel_launcher.py:3: DeprecationWarning: Converting `np.inexact` or `np.floating` to a dtype is deprecated. The current result is `float64` which is not strictly correct.\n",
      "  This is separate from the ipykernel package so we can avoid doing imports until\n",
      "/opt/conda/lib/python3.7/site-packages/ipykernel_launcher.py:3: DeprecationWarning: Converting `np.inexact` or `np.floating` to a dtype is deprecated. The current result is `float64` which is not strictly correct.\n",
      "  This is separate from the ipykernel package so we can avoid doing imports until\n"
     ]
    },
    {
     "data": {
      "image/png": "[encoded data removed]",
      "text/plain": [
       "<Figure size 720x576 with 1 Axes>"
      ]
     },
     "metadata": {
      "needs_background": "light"
     },
     "output_type": "display_data"
    },
    {
     "data": {
      "image/png": "[encoded data removed]",
      "text/plain": [
       "<Figure size 720x576 with 1 Axes>"
      ]
     },
     "metadata": {
      "needs_background": "light"
     },
     "output_type": "display_data"
    },
    {
     "data": {
      "image/png": "[encoded data removed]",
      "text/plain": [
       "<Figure size 720x576 with 1 Axes>"
      ]
     },
     "metadata": {
      "needs_background": "light"
     },
     "output_type": "display_data"
    },
    {
     "data": {
      "image/png": "[encoded data removed]",
      "text/plain": [
       "<Figure size 720x576 with 1 Axes>"
      ]
     },
     "metadata": {
      "needs_background": "light"
     },
     "output_type": "display_data"
    }
   ],
   "source": [
    "#Visualising Numerical Data\n",
    "for i, column in enumerate(train.columns):\n",
    "    if train[column].dtype == np.number:\n",
    "        plt.figure(figsize=(10,8))\n",
    "        sns.histplot(train[column])\n",
    "        plt.xticks(rotation=90)\n"
   ]
  },
  {
   "cell_type": "code",
   "execution_count": 23,
   "id": "7dff7a1b",
   "metadata": {
    "execution": {
     "iopub.execute_input": "2022-03-22T15:29:06.756127Z",
     "iopub.status.busy": "2022-03-22T15:29:06.754898Z",
     "iopub.status.idle": "2022-03-22T15:29:08.200839Z",
     "shell.execute_reply": "2022-03-22T15:29:08.201371Z",
     "shell.execute_reply.started": "2022-03-22T15:27:54.313274Z"
    },
    "papermill": {
     "duration": 1.50093,
     "end_time": "2022-03-22T15:29:08.201560",
     "exception": false,
     "start_time": "2022-03-22T15:29:06.700630",
     "status": "completed"
    },
    "tags": []
   },
   "outputs": [
    {
     "name": "stderr",
     "output_type": "stream",
     "text": [
      "/opt/conda/lib/python3.7/site-packages/seaborn/_decorators.py:43: FutureWarning: Pass the following variable as a keyword arg: x. From version 0.12, the only valid positional argument will be `data`, and passing other arguments without an explicit keyword will result in an error or misinterpretation.\n",
      "  FutureWarning\n",
      "/opt/conda/lib/python3.7/site-packages/seaborn/_decorators.py:43: FutureWarning: Pass the following variable as a keyword arg: x. From version 0.12, the only valid positional argument will be `data`, and passing other arguments without an explicit keyword will result in an error or misinterpretation.\n",
      "  FutureWarning\n",
      "/opt/conda/lib/python3.7/site-packages/seaborn/_decorators.py:43: FutureWarning: Pass the following variable as a keyword arg: x. From version 0.12, the only valid positional argument will be `data`, and passing other arguments without an explicit keyword will result in an error or misinterpretation.\n",
      "  FutureWarning\n",
      "/opt/conda/lib/python3.7/site-packages/seaborn/_decorators.py:43: FutureWarning: Pass the following variable as a keyword arg: x. From version 0.12, the only valid positional argument will be `data`, and passing other arguments without an explicit keyword will result in an error or misinterpretation.\n",
      "  FutureWarning\n",
      "/opt/conda/lib/python3.7/site-packages/seaborn/_decorators.py:43: FutureWarning: Pass the following variable as a keyword arg: x. From version 0.12, the only valid positional argument will be `data`, and passing other arguments without an explicit keyword will result in an error or misinterpretation.\n",
      "  FutureWarning\n",
      "/opt/conda/lib/python3.7/site-packages/seaborn/_decorators.py:43: FutureWarning: Pass the following variable as a keyword arg: x. From version 0.12, the only valid positional argument will be `data`, and passing other arguments without an explicit keyword will result in an error or misinterpretation.\n",
      "  FutureWarning\n"
     ]
    },
    {
     "data": {
      "image/png": "[encoded data removed]",
      "text/plain": [
       "<Figure size 720x576 with 1 Axes>"
      ]
     },
     "metadata": {
      "needs_background": "light"
     },
     "output_type": "display_data"
    },
    {
     "data": {
      "image/png": "[encoded data removed]",
      "text/plain": [
       "<Figure size 720x576 with 1 Axes>"
      ]
     },
     "metadata": {
      "needs_background": "light"
     },
     "output_type": "display_data"
    },
    {
     "data": {
      "image/png": "[encoded data removed]",
      "text/plain": [
       "<Figure size 720x576 with 1 Axes>"
      ]
     },
     "metadata": {
      "needs_background": "light"
     },
     "output_type": "display_data"
    },
    {
     "data": {
      "image/png": "[encoded data removed]",
      "text/plain": [
       "<Figure size 720x576 with 1 Axes>"
      ]
     },
     "metadata": {
      "needs_background": "light"
     },
     "output_type": "display_data"
    },
    {
     "data": {
      "image/png": "[encoded data removed]",
      "text/plain": [
       "<Figure size 720x576 with 1 Axes>"
      ]
     },
     "metadata": {
      "needs_background": "light"
     },
     "output_type": "display_data"
    },
    {
     "data": {
      "image/png": "[encoded data removed]",
      "text/plain": [
       "<Figure size 720x576 with 1 Axes>"
      ]
     },
     "metadata": {
      "needs_background": "light"
     },
     "output_type": "display_data"
    }
   ],
   "source": [
    "#Visualizing Categorical Data\n",
    "for i, column in enumerate(train.columns):\n",
    "    if train[column].dtype == object:\n",
    "        plt.figure(figsize=(10,8))\n",
    "        sns.countplot(train[column])\n",
    "        plt.xticks(rotation=90)\n"
   ]
  },
  {
   "cell_type": "markdown",
   "id": "980be8c2",
   "metadata": {
    "papermill": {
     "duration": 0.056115,
     "end_time": "2022-03-22T15:29:08.315427",
     "exception": false,
     "start_time": "2022-03-22T15:29:08.259312",
     "status": "completed"
    },
    "tags": []
   },
   "source": [
    "## Label Encoding"
   ]
  },
  {
   "cell_type": "code",
   "execution_count": 24,
   "id": "1fc44165",
   "metadata": {
    "execution": {
     "iopub.execute_input": "2022-03-22T15:29:08.431515Z",
     "iopub.status.busy": "2022-03-22T15:29:08.430878Z",
     "iopub.status.idle": "2022-03-22T15:29:08.434710Z",
     "shell.execute_reply": "2022-03-22T15:29:08.435390Z",
     "shell.execute_reply.started": "2022-03-22T15:27:56.024294Z"
    },
    "papermill": {
     "duration": 0.062633,
     "end_time": "2022-03-22T15:29:08.435568",
     "exception": false,
     "start_time": "2022-03-22T15:29:08.372935",
     "status": "completed"
    },
    "tags": []
   },
   "outputs": [],
   "source": [
    "from sklearn.preprocessing import LabelEncoder\n",
    "encoder = LabelEncoder()"
   ]
  },
  {
   "cell_type": "code",
   "execution_count": 25,
   "id": "828e7dbf",
   "metadata": {
    "execution": {
     "iopub.execute_input": "2022-03-22T15:29:08.555498Z",
     "iopub.status.busy": "2022-03-22T15:29:08.550131Z",
     "iopub.status.idle": "2022-03-22T15:29:08.573278Z",
     "shell.execute_reply": "2022-03-22T15:29:08.573829Z",
     "shell.execute_reply.started": "2022-03-22T15:27:56.033563Z"
    },
    "papermill": {
     "duration": 0.082142,
     "end_time": "2022-03-22T15:29:08.574012",
     "exception": false,
     "start_time": "2022-03-22T15:29:08.491870",
     "status": "completed"
    },
    "tags": []
   },
   "outputs": [],
   "source": [
    "for column in train.columns:\n",
    "    if train[column].dtype == object:\n",
    "        train[column] = encoder.fit_transform(train[column])\n",
    "        \n",
    "    "
   ]
  },
  {
   "cell_type": "code",
   "execution_count": 26,
   "id": "00d58982",
   "metadata": {
    "execution": {
     "iopub.execute_input": "2022-03-22T15:29:08.695524Z",
     "iopub.status.busy": "2022-03-22T15:29:08.694812Z",
     "iopub.status.idle": "2022-03-22T15:29:08.712458Z",
     "shell.execute_reply": "2022-03-22T15:29:08.712988Z",
     "shell.execute_reply.started": "2022-03-22T15:27:56.073323Z"
    },
    "papermill": {
     "duration": 0.081391,
     "end_time": "2022-03-22T15:29:08.713162",
     "exception": false,
     "start_time": "2022-03-22T15:29:08.631771",
     "status": "completed"
    },
    "tags": []
   },
   "outputs": [],
   "source": [
    "for column in test.columns:\n",
    "    if test[column].dtype == object:\n",
    "        test[column] = encoder.fit_transform(test[column])\n",
    "        \n",
    "    "
   ]
  },
  {
   "cell_type": "markdown",
   "id": "e86662b2",
   "metadata": {
    "papermill": {
     "duration": 0.055241,
     "end_time": "2022-03-22T15:29:08.826059",
     "exception": false,
     "start_time": "2022-03-22T15:29:08.770818",
     "status": "completed"
    },
    "tags": []
   },
   "source": [
    "## Splitting Features & Target"
   ]
  },
  {
   "cell_type": "code",
   "execution_count": 27,
   "id": "2772ca98",
   "metadata": {
    "execution": {
     "iopub.execute_input": "2022-03-22T15:29:08.948786Z",
     "iopub.status.busy": "2022-03-22T15:29:08.948043Z",
     "iopub.status.idle": "2022-03-22T15:29:08.951667Z",
     "shell.execute_reply": "2022-03-22T15:29:08.952274Z",
     "shell.execute_reply.started": "2022-03-22T15:27:56.097656Z"
    },
    "papermill": {
     "duration": 0.069224,
     "end_time": "2022-03-22T15:29:08.952487",
     "exception": false,
     "start_time": "2022-03-22T15:29:08.883263",
     "status": "completed"
    },
    "tags": []
   },
   "outputs": [],
   "source": [
    "X = train.drop(columns='Item_Outlet_Sales',axis=1)\n",
    "Y = train['Item_Outlet_Sales'] "
   ]
  },
  {
   "cell_type": "code",
   "execution_count": 28,
   "id": "1e1f1d86",
   "metadata": {
    "execution": {
     "iopub.execute_input": "2022-03-22T15:29:09.071316Z",
     "iopub.status.busy": "2022-03-22T15:29:09.070525Z",
     "iopub.status.idle": "2022-03-22T15:29:09.073971Z",
     "shell.execute_reply": "2022-03-22T15:29:09.074492Z",
     "shell.execute_reply.started": "2022-03-22T15:27:56.111628Z"
    },
    "papermill": {
     "duration": 0.063774,
     "end_time": "2022-03-22T15:29:09.074661",
     "exception": false,
     "start_time": "2022-03-22T15:29:09.010887",
     "status": "completed"
    },
    "tags": []
   },
   "outputs": [],
   "source": [
    "from sklearn.model_selection import train_test_split"
   ]
  },
  {
   "cell_type": "code",
   "execution_count": 29,
   "id": "cea8cf3a",
   "metadata": {
    "execution": {
     "iopub.execute_input": "2022-03-22T15:29:09.192924Z",
     "iopub.status.busy": "2022-03-22T15:29:09.192116Z",
     "iopub.status.idle": "2022-03-22T15:29:09.198577Z",
     "shell.execute_reply": "2022-03-22T15:29:09.199102Z",
     "shell.execute_reply.started": "2022-03-22T15:27:56.122130Z"
    },
    "papermill": {
     "duration": 0.065734,
     "end_time": "2022-03-22T15:29:09.199297",
     "exception": false,
     "start_time": "2022-03-22T15:29:09.133563",
     "status": "completed"
    },
    "tags": []
   },
   "outputs": [],
   "source": [
    "x_train,x_test,y_train,y_test = train_test_split(X,Y,test_size=0.2,random_state=2)"
   ]
  },
  {
   "cell_type": "markdown",
   "id": "dda4022a",
   "metadata": {
    "papermill": {
     "duration": 0.056872,
     "end_time": "2022-03-22T15:29:09.312915",
     "exception": false,
     "start_time": "2022-03-22T15:29:09.256043",
     "status": "completed"
    },
    "tags": []
   },
   "source": [
    "## ML MODEL"
   ]
  },
  {
   "cell_type": "code",
   "execution_count": 30,
   "id": "540aa330",
   "metadata": {
    "execution": {
     "iopub.execute_input": "2022-03-22T15:29:09.428524Z",
     "iopub.status.busy": "2022-03-22T15:29:09.427863Z",
     "iopub.status.idle": "2022-03-22T15:29:10.152627Z",
     "shell.execute_reply": "2022-03-22T15:29:10.153093Z",
     "shell.execute_reply.started": "2022-03-22T15:27:56.140675Z"
    },
    "papermill": {
     "duration": 0.783569,
     "end_time": "2022-03-22T15:29:10.153303",
     "exception": false,
     "start_time": "2022-03-22T15:29:09.369734",
     "status": "completed"
    },
    "tags": []
   },
   "outputs": [
    {
     "data": {
      "text/plain": [
       "XGBRegressor(base_score=0.5, booster='gbtree', colsample_bylevel=1,\n",
       "             colsample_bynode=1, colsample_bytree=1, enable_categorical=False,\n",
       "             gamma=0, gpu_id=-1, importance_type=None,\n",
       "             interaction_constraints='', learning_rate=0.300000012,\n",
       "             max_delta_step=0, max_depth=6, min_child_weight=1, missing=nan,\n",
       "             monotone_constraints='()', n_estimators=100, n_jobs=4,\n",
       "             num_parallel_tree=1, predictor='auto', random_state=0, reg_alpha=0,\n",
       "             reg_lambda=1, scale_pos_weight=1, subsample=1, tree_method='exact',\n",
       "             validate_parameters=1, verbosity=None)"
      ]
     },
     "execution_count": 30,
     "metadata": {},
     "output_type": "execute_result"
    }
   ],
   "source": [
    "regressor = XGBRegressor()\n",
    "regressor.fit(x_train,y_train)"
   ]
  },
  {
   "cell_type": "markdown",
   "id": "fa130bb3",
   "metadata": {
    "papermill": {
     "duration": 0.056046,
     "end_time": "2022-03-22T15:29:10.267793",
     "exception": false,
     "start_time": "2022-03-22T15:29:10.211747",
     "status": "completed"
    },
    "tags": []
   },
   "source": [
    "## Evaluation"
   ]
  },
  {
   "cell_type": "code",
   "execution_count": 31,
   "id": "f339fccf",
   "metadata": {
    "execution": {
     "iopub.execute_input": "2022-03-22T15:29:10.384649Z",
     "iopub.status.busy": "2022-03-22T15:29:10.383978Z",
     "iopub.status.idle": "2022-03-22T15:29:10.401501Z",
     "shell.execute_reply": "2022-03-22T15:29:10.402229Z",
     "shell.execute_reply.started": "2022-03-22T15:27:56.884326Z"
    },
    "papermill": {
     "duration": 0.078437,
     "end_time": "2022-03-22T15:29:10.402440",
     "exception": false,
     "start_time": "2022-03-22T15:29:10.324003",
     "status": "completed"
    },
    "tags": []
   },
   "outputs": [],
   "source": [
    "#Prediction on Training data\n",
    "training_data_prediction = regressor.predict(x_train)"
   ]
  },
  {
   "cell_type": "code",
   "execution_count": 32,
   "id": "a4d9f1da",
   "metadata": {
    "execution": {
     "iopub.execute_input": "2022-03-22T15:29:10.525318Z",
     "iopub.status.busy": "2022-03-22T15:29:10.524568Z",
     "iopub.status.idle": "2022-03-22T15:29:10.525974Z",
     "shell.execute_reply": "2022-03-22T15:29:10.526575Z",
     "shell.execute_reply.started": "2022-03-22T15:27:56.905636Z"
    },
    "papermill": {
     "duration": 0.06629,
     "end_time": "2022-03-22T15:29:10.526789",
     "exception": false,
     "start_time": "2022-03-22T15:29:10.460499",
     "status": "completed"
    },
    "tags": []
   },
   "outputs": [],
   "source": [
    "#R Square error\n",
    "r2_train = metrics.r2_score(y_train,training_data_prediction)"
   ]
  },
  {
   "cell_type": "code",
   "execution_count": 33,
   "id": "9ca156a1",
   "metadata": {
    "execution": {
     "iopub.execute_input": "2022-03-22T15:29:10.645631Z",
     "iopub.status.busy": "2022-03-22T15:29:10.644972Z",
     "iopub.status.idle": "2022-03-22T15:29:10.649862Z",
     "shell.execute_reply": "2022-03-22T15:29:10.650353Z",
     "shell.execute_reply.started": "2022-03-22T15:27:56.914926Z"
    },
    "papermill": {
     "duration": 0.066004,
     "end_time": "2022-03-22T15:29:10.650547",
     "exception": false,
     "start_time": "2022-03-22T15:29:10.584543",
     "status": "completed"
    },
    "tags": []
   },
   "outputs": [
    {
     "name": "stdout",
     "output_type": "stream",
     "text": [
      "R Squared Value =  84.9989620732928\n"
     ]
    }
   ],
   "source": [
    "print(\"R Squared Value = \",r2_train*100)"
   ]
  },
  {
   "cell_type": "code",
   "execution_count": 34,
   "id": "336cba99",
   "metadata": {
    "execution": {
     "iopub.execute_input": "2022-03-22T15:29:10.766676Z",
     "iopub.status.busy": "2022-03-22T15:29:10.765980Z",
     "iopub.status.idle": "2022-03-22T15:29:10.782667Z",
     "shell.execute_reply": "2022-03-22T15:29:10.783316Z",
     "shell.execute_reply.started": "2022-03-22T15:27:56.929781Z"
    },
    "papermill": {
     "duration": 0.076476,
     "end_time": "2022-03-22T15:29:10.783529",
     "exception": false,
     "start_time": "2022-03-22T15:29:10.707053",
     "status": "completed"
    },
    "tags": []
   },
   "outputs": [],
   "source": [
    "#Prediction on Test Data\n",
    "prediction = regressor.predict(test)\n"
   ]
  },
  {
   "cell_type": "code",
   "execution_count": 35,
   "id": "34fcae9d",
   "metadata": {
    "execution": {
     "iopub.execute_input": "2022-03-22T15:29:10.906933Z",
     "iopub.status.busy": "2022-03-22T15:29:10.906182Z",
     "iopub.status.idle": "2022-03-22T15:29:10.927936Z",
     "shell.execute_reply": "2022-03-22T15:29:10.928531Z",
     "shell.execute_reply.started": "2022-03-22T15:27:56.966290Z"
    },
    "papermill": {
     "duration": 0.085633,
     "end_time": "2022-03-22T15:29:10.928725",
     "exception": false,
     "start_time": "2022-03-22T15:29:10.843092",
     "status": "completed"
    },
    "tags": []
   },
   "outputs": [],
   "source": [
    "# Creating DataFrame\n",
    "raw_data = pd.read_csv(\"../input/salesdata/Test.csv\")\n",
    "submission = pd.DataFrame({\"Item_Identifier\":raw_data.Item_Identifier,'Item_Outlet_Sales':prediction})\n"
   ]
  },
  {
   "cell_type": "code",
   "execution_count": 36,
   "id": "273ae28e",
   "metadata": {
    "execution": {
     "iopub.execute_input": "2022-03-22T15:29:11.048309Z",
     "iopub.status.busy": "2022-03-22T15:29:11.047655Z",
     "iopub.status.idle": "2022-03-22T15:29:11.069188Z",
     "shell.execute_reply": "2022-03-22T15:29:11.069781Z",
     "shell.execute_reply.started": "2022-03-22T15:27:56.995994Z"
    },
    "papermill": {
     "duration": 0.083013,
     "end_time": "2022-03-22T15:29:11.069956",
     "exception": false,
     "start_time": "2022-03-22T15:29:10.986943",
     "status": "completed"
    },
    "tags": []
   },
   "outputs": [],
   "source": [
    "submission.to_csv(\"Submission.csv\",index=False)"
   ]
  }
 ],
 "metadata": {
  "kernelspec": {
   "display_name": "Python 3",
   "language": "python",
   "name": "python3"
  },
  "language_info": {
   "codemirror_mode": {
    "name": "ipython",
    "version": 3
   },
   "file_extension": ".py",
   "mimetype": "text/x-python",
   "name": "python",
   "nbconvert_exporter": "python",
   "pygments_lexer": "ipython3",
   "version": "3.7.12"
  },
  "papermill": {
   "default_parameters": {},
   "duration": 21.297588,
   "end_time": "2022-03-22T15:29:11.940293",
   "environment_variables": {},
   "exception": null,
   "input_path": "__notebook__.ipynb",
   "output_path": "__notebook__.ipynb",
   "parameters": {},
   "start_time": "2022-03-22T15:28:50.642705",
   "version": "2.3.3"
  }
 },
 "nbformat": 4,
 "nbformat_minor": 5
}
